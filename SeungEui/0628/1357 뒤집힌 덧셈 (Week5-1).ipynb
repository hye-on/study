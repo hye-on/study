{
 "cells": [
  {
   "cell_type": "markdown",
   "metadata": {},
   "source": [
    "<h6>어떤 수 X, X의 모든 자리수가 역순이 된 수를 만드는 함수 Rev(X)</h6>\n",
    "<h6>ex. X=123, Rev(X)=321 / X=100, Rev(X)=1</h6>\n",
    "<h4>Rev(Rev(X)+Rev(Y)) 구하기</h4>"
   ]
  },
  {
   "cell_type": "code",
   "execution_count": 9,
   "metadata": {},
   "outputs": [
    {
     "name": "stdout",
     "output_type": "stream",
     "text": [
      "123 100\n"
     ]
    }
   ],
   "source": [
    "x, y = input().split()"
   ]
  },
  {
   "cell_type": "code",
   "execution_count": 10,
   "metadata": {},
   "outputs": [],
   "source": [
    "#Rev() 함수 만들기\n",
    "def Rev(n):\n",
    "    #문제 : str은 immutable이라 변경이 안 됨. 그래도 list에 적용되는 메소드는 쓸 수 있다.\n",
    "    rev_list = list(reversed(n)) #역순 메소드 reversed(), 결과를 보고 싶으면 list() 써야 함.\n",
    "    #list->str \n",
    "    rev_str = ''\n",
    "    for i in rev_list:\n",
    "        rev_str += i\n",
    "    return rev_str"
   ]
  },
  {
   "cell_type": "code",
   "execution_count": 11,
   "metadata": {},
   "outputs": [
    {
     "name": "stdout",
     "output_type": "stream",
     "text": [
      "223\n"
     ]
    }
   ],
   "source": [
    "answer = int(Rev(x))+int(Rev(y))\n",
    "answer = str(answer)\n",
    "print(int(Rev(answer)))"
   ]
  },
  {
   "cell_type": "code",
   "execution_count": null,
   "metadata": {},
   "outputs": [],
   "source": []
  }
 ],
 "metadata": {
  "kernelspec": {
   "display_name": "Python 3",
   "language": "python",
   "name": "python3"
  },
  "language_info": {
   "codemirror_mode": {
    "name": "ipython",
    "version": 3
   },
   "file_extension": ".py",
   "mimetype": "text/x-python",
   "name": "python",
   "nbconvert_exporter": "python",
   "pygments_lexer": "ipython3",
   "version": "3.7.4"
  }
 },
 "nbformat": 4,
 "nbformat_minor": 2
}
