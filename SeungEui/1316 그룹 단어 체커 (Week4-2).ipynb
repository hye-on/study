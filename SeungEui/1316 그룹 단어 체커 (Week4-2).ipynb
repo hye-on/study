{
 "cells": [
  {
   "cell_type": "code",
   "execution_count": 10,
   "metadata": {
    "scrolled": true
   },
   "outputs": [
    {
     "name": "stdout",
     "output_type": "stream",
     "text": [
      "3\n",
      "happy\n",
      "new\n",
      "year\n"
     ]
    }
   ],
   "source": [
    "n = int(input())\n",
    "#python의 배열은 수정 가능함(추가, 삭제 등)\n",
    "#새 배열 만들기 [] or list()\n",
    "words = []\n",
    "for i in range(n):\n",
    "    #배열에 새 아이템 추가하는 멤버 함수 append()\n",
    "    words.append(input())"
   ]
  },
  {
   "cell_type": "markdown",
   "metadata": {},
   "source": [
    "<h6>groupChecker 함수 만들기</h6>"
   ]
  },
  {
   "cell_type": "code",
   "execution_count": 11,
   "metadata": {},
   "outputs": [],
   "source": [
    "#전에 나왔던 단어가 다른 단어 다음에 또 나오면 안 됨\n",
    "#함수 만들기 def functionName(parameter):\n",
    "def groupChecker(voca): #문자열 하나 입력 받기\n",
    "    compare = voca[0]\n",
    "    compares = []\n",
    "    compares.append(compare)\n",
    "    #중복 없앤 알파벳 배열 compares 만들기 (최댓값 구하는 거랑 비슷함)\n",
    "    for i in voca:\n",
    "        if compare!=i:\n",
    "            compare = i\n",
    "            compares.append(compare)\n",
    "    #compares 배열 중복 체크\n",
    "    compares = sorted(compares) #배열 정렬하기 sorted(배열)\n",
    "    for i in range(0, len(compares)-1): #배열 크기 가져오기 len(배열)\n",
    "        for j in range(i+1, len(compares)):\n",
    "            # compares 배열에 중복된 게 있으면 그룹 단어가 아니다.\n",
    "            if compares[i]==compares[j]:\n",
    "                return 0\n",
    "    #compares 배열에 중복된 게 없으면 그룹 단어다.\n",
    "    return 1"
   ]
  },
  {
   "cell_type": "code",
   "execution_count": 12,
   "metadata": {},
   "outputs": [
    {
     "name": "stdout",
     "output_type": "stream",
     "text": [
      "3\n"
     ]
    }
   ],
   "source": [
    "isGroup = 0\n",
    "for i in words:\n",
    "    isGroup += groupChecker(i)\n",
    "print(isGroup)"
   ]
  },
  {
   "cell_type": "code",
   "execution_count": null,
   "metadata": {},
   "outputs": [],
   "source": []
  }
 ],
 "metadata": {
  "kernelspec": {
   "display_name": "Python 3",
   "language": "python",
   "name": "python3"
  },
  "language_info": {
   "codemirror_mode": {
    "name": "ipython",
    "version": 3
   },
   "file_extension": ".py",
   "mimetype": "text/x-python",
   "name": "python",
   "nbconvert_exporter": "python",
   "pygments_lexer": "ipython3",
   "version": "3.7.4"
  }
 },
 "nbformat": 4,
 "nbformat_minor": 2
}
