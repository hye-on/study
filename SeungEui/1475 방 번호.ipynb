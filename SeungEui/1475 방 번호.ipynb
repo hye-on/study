{
 "cells": [
  {
   "cell_type": "markdown",
   "metadata": {},
   "source": [
    "<h6>9999에 0~9 몇 세트 필요할까?</h6>"
   ]
  },
  {
   "cell_type": "markdown",
   "metadata": {},
   "source": [
    "<P>숫자의 개수 중 가장 큰 수를 구한다. 다만 9를 6으로 바꾸고 6의 개수는 1/2한다.</p>"
   ]
  },
  {
   "cell_type": "code",
   "execution_count": 15,
   "metadata": {},
   "outputs": [
    {
     "name": "stdout",
     "output_type": "stream",
     "text": [
      "9999\n",
      "2\n"
     ]
    }
   ],
   "source": [
    "n = input()\n",
    "\n",
    "def strToInt(n):\n",
    "    listN = list(n)\n",
    "    for i in range(len(listN)):\n",
    "        listN[i] = int(listN[i])\n",
    "    return listN\n",
    "\n",
    "def countNum(n):\n",
    "    #count 리스트 선언&초기화\n",
    "    count = []\n",
    "    for i in range(10):\n",
    "        count.append(0)\n",
    "    #0~9 숫자 세기\n",
    "    for item in n:\n",
    "        for i in range(10):\n",
    "            if i == item:\n",
    "                count[i] = count[i] + 1\n",
    "    #9는 6으로 바꿔버리고, 6의 개수는 1/2 한 후 내림 한다\n",
    "    count[6] = int((count[6] + count[9] + 1)/2)\n",
    "    count[9] = 0\n",
    "    #count 리스트에서 가장 큰 수 찾기\n",
    "    count.sort()\n",
    "    return count[len(count)-1]\n",
    "print(countNum(strToInt(n)))"
   ]
  },
  {
   "cell_type": "code",
   "execution_count": null,
   "metadata": {},
   "outputs": [],
   "source": []
  }
 ],
 "metadata": {
  "kernelspec": {
   "display_name": "Python 3",
   "language": "python",
   "name": "python3"
  },
  "language_info": {
   "codemirror_mode": {
    "name": "ipython",
    "version": 3
   },
   "file_extension": ".py",
   "mimetype": "text/x-python",
   "name": "python",
   "nbconvert_exporter": "python",
   "pygments_lexer": "ipython3",
   "version": "3.7.4"
  }
 },
 "nbformat": 4,
 "nbformat_minor": 2
}
