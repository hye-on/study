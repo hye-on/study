{
 "cells": [
  {
   "cell_type": "markdown",
   "metadata": {},
   "source": [
    "<h3>L과 R 사이에서 8의 개수가 가장 작은 수는 8을 몇 개나 갖고 있을까?</h3>\n",
    "<h6 style = \"color:blue\"> 1, 10 -> 0개</h6>"
   ]
  },
  {
   "cell_type": "code",
   "execution_count": 42,
   "metadata": {},
   "outputs": [
    {
     "name": "stdout",
     "output_type": "stream",
     "text": [
      "8819 8829\n",
      "2\n"
     ]
    }
   ],
   "source": [
    "L, R = input().split()\n",
    "\n",
    "m = 0\n",
    "\n",
    "#두 수의 자릿수가 같으면 계산해봐야 함.\n",
    "if len(L) == len(R):\n",
    "    #두 수의 중복되면서 8인 부분 개수 세기 ex. 8810 8890에서 88__ 찾기\n",
    "    for i in range(len(L)):\n",
    "        if L[i] == R[i]:\n",
    "            if L[i] == '8':\n",
    "                m = m + 1\n",
    "        else:\n",
    "            break\n",
    "#두 수의 자릿수가 다르면 무조건 0    \n",
    "print(m)"
   ]
  },
  {
   "cell_type": "markdown",
   "metadata": {},
   "source": [
    "# "
   ]
  }
 ],
 "metadata": {
  "kernelspec": {
   "display_name": "Python 3",
   "language": "python",
   "name": "python3"
  },
  "language_info": {
   "codemirror_mode": {
    "name": "ipython",
    "version": 3
   },
   "file_extension": ".py",
   "mimetype": "text/x-python",
   "name": "python",
   "nbconvert_exporter": "python",
   "pygments_lexer": "ipython3",
   "version": "3.7.4"
  }
 },
 "nbformat": 4,
 "nbformat_minor": 2
}
