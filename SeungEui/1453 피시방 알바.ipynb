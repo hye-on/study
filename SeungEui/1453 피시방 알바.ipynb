{
 "cells": [
  {
   "cell_type": "markdown",
   "metadata": {},
   "source": [
    "<h1>거절당하는 사람의 수 출력하기</h1>"
   ]
  },
  {
   "cell_type": "code",
   "execution_count": 3,
   "metadata": {},
   "outputs": [
    {
     "name": "stdout",
     "output_type": "stream",
     "text": [
      "6\n",
      "100 99 98 99 96 100\n",
      "2\n"
     ]
    }
   ],
   "source": [
    "n = int(input())\n",
    "wantSeats = input().split(' ')\n",
    "\n",
    "#중복일 때마다 count\n",
    "def sorryPpl(seats):\n",
    "    noOverLapSeats = []\n",
    "    count = 0\n",
    "    for seat in seats:\n",
    "        if seat in noOverLapSeats:\n",
    "            count = count + 1\n",
    "        else:\n",
    "            noOverLapSeats.append(seat)\n",
    "    return count\n",
    "print(sorryPpl(wantSeats))\n"
   ]
  },
  {
   "cell_type": "code",
   "execution_count": null,
   "metadata": {},
   "outputs": [],
   "source": []
  }
 ],
 "metadata": {
  "kernelspec": {
   "display_name": "Python 3",
   "language": "python",
   "name": "python3"
  },
  "language_info": {
   "codemirror_mode": {
    "name": "ipython",
    "version": 3
   },
   "file_extension": ".py",
   "mimetype": "text/x-python",
   "name": "python",
   "nbconvert_exporter": "python",
   "pygments_lexer": "ipython3",
   "version": "3.7.4"
  }
 },
 "nbformat": 4,
 "nbformat_minor": 2
}
