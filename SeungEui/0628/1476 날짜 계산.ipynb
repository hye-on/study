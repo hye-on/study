{
 "cells": [
  {
   "cell_type": "markdown",
   "metadata": {},
   "source": [
    "<h1>E : 15의 배수 + 나머지, S : 28의 배수 + 나머지, m : 19의 배수 + 나머지 </h1>\n",
    "<h6>다 해당되는 제일 작은 수 찾기</h6>"
   ]
  },
  {
   "cell_type": "code",
   "execution_count": 31,
   "metadata": {},
   "outputs": [
    {
     "name": "stdout",
     "output_type": "stream",
     "text": [
      "15 28 19\n",
      "7980\n"
     ]
    }
   ],
   "source": [
    "\"\"\"\n",
    "e = 1, 16, 31,...\n",
    "나머지는 다 주어짐.\n",
    "15x + 1 = 28y + 16 = 19z + 16 = n 이런 느낌\n",
    "n 찾을 때까지 계속 반복\n",
    "\"\"\"\n",
    "e, s, m = input().split()\n",
    "e = int(a)\n",
    "s = int(b)\n",
    "m = int(c)\n",
    "\n",
    "        \n",
    "def findN(a, b, c):\n",
    "    #n에서 a 빼면 15의 배수, b 빼면 28의 배수, c 빼면 19의 배수\n",
    "    n = b\n",
    "    #나머지가 0일 때 : 즉 15, 28, 19의 최소공배수일 때를 위해서\n",
    "    if a == 15:\n",
    "        a = a - 15\n",
    "    if b == 28:\n",
    "        b = b - 28\n",
    "    if c == 19:\n",
    "        c = c - 19\n",
    "    while True:\n",
    "        if n%15 == a and n%19 == c:\n",
    "            return n \n",
    "        else:\n",
    "            n = n + 28\n",
    "print(findN(e, s, m))"
   ]
  },
  {
   "cell_type": "code",
   "execution_count": null,
   "metadata": {},
   "outputs": [],
   "source": []
  }
 ],
 "metadata": {
  "kernelspec": {
   "display_name": "Python 3",
   "language": "python",
   "name": "python3"
  },
  "language_info": {
   "codemirror_mode": {
    "name": "ipython",
    "version": 3
   },
   "file_extension": ".py",
   "mimetype": "text/x-python",
   "name": "python",
   "nbconvert_exporter": "python",
   "pygments_lexer": "ipython3",
   "version": "3.7.4"
  }
 },
 "nbformat": 4,
 "nbformat_minor": 2
}
