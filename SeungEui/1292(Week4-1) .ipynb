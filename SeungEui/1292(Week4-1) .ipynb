{
 "cells": [
  {
   "cell_type": "code",
   "execution_count": 2,
   "metadata": {
    "scrolled": true
   },
   "outputs": [
    {
     "name": "stdout",
     "output_type": "stream",
     "text": [
      "1\n",
      "1\n"
     ]
    }
   ],
   "source": [
    "#하나 입력 받기\n",
    "nums = int(input(''))\n",
    "print(nums)"
   ]
  },
  {
   "cell_type": "markdown",
   "metadata": {},
   "source": [
    "<h1>1292번 쉽게 푸는 문제</h1>"
   ]
  },
  {
   "cell_type": "code",
   "execution_count": 17,
   "metadata": {},
   "outputs": [
    {
     "name": "stdout",
     "output_type": "stream",
     "text": [
      "3 7\n",
      "3\n",
      "7\n"
     ]
    }
   ],
   "source": [
    "#띄어쓰기 기준으로 두 개 입력 받기 \n",
    "num1, num2 = input('').split()\n",
    "print(num1)\n",
    "print(num2)"
   ]
  },
  {
   "cell_type": "code",
   "execution_count": 16,
   "metadata": {},
   "outputs": [],
   "source": [
    "#뒤의 거까지의 합 - 앞의 숫자 이전까지의 합 ex. 7번째 수까지의 합 - 2번째 수까지의 합\n",
    "#합 구하는 함수 구하기\n",
    "def getSum(n) :\n",
    "    sum = 0\n",
    "    i = 1\n",
    "    #1에서 입력받은 숫자까지의 합 == 1에서 i 숫자를 n번 더한 것까지의 합\n",
    "    while n > i :\n",
    "        n -= i\n",
    "        i += 1\n",
    "    # 1 + 2+2 + 3+3+3 + ...(i-1) + i를 n개 만큼 더하기\n",
    "    for a in range(i):\n",
    "        sum += a*a\n",
    "    sum += i*n\n",
    "    return sum"
   ]
  },
  {
   "cell_type": "code",
   "execution_count": 19,
   "metadata": {},
   "outputs": [
    {
     "name": "stdout",
     "output_type": "stream",
     "text": [
      "15\n"
     ]
    }
   ],
   "source": [
    "print(getSum(int(num2))-getSum(int(num1)-1))"
   ]
  },
  {
   "cell_type": "code",
   "execution_count": null,
   "metadata": {},
   "outputs": [],
   "source": []
  }
 ],
 "metadata": {
  "kernelspec": {
   "display_name": "Python 3",
   "language": "python",
   "name": "python3"
  },
  "language_info": {
   "codemirror_mode": {
    "name": "ipython",
    "version": 3
   },
   "file_extension": ".py",
   "mimetype": "text/x-python",
   "name": "python",
   "nbconvert_exporter": "python",
   "pygments_lexer": "ipython3",
   "version": "3.7.4"
  }
 },
 "nbformat": 4,
 "nbformat_minor": 2
}
