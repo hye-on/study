{
 "cells": [
  {
   "cell_type": "code",
   "execution_count": 12,
   "metadata": {},
   "outputs": [
    {
     "name": "stdout",
     "output_type": "stream",
     "text": [
      "3\n",
      "NYY\n",
      "YNY\n",
      "YYN\n",
      "2\n"
     ]
    }
   ],
   "source": [
    "from collections import deque #양방향 큐\n",
    "n = int(input())\n",
    "matrix = [[0 for _ in range(n)] for _ in range(n)] #[[0],[0],[0],...[0]],[[0],[0],[0],...[0]],...[[0],[0],[0],...[0]]\n",
    "\n",
    "for i in range(n):\n",
    "    f = input()\n",
    "    f = list(f)\n",
    "    for j in range(n):\n",
    "        if f[j] == 'Y':\n",
    "            matrix[i][j] = 1\n",
    "#친구 한 명당, i는 사람 한 명을 가리키는 index\n",
    "def bfs(n, i):\n",
    "    check = [0] * n\n",
    "    check[i] = 1\n",
    "    que = deque([(i, 0)])\n",
    "    count = 0\n",
    "    while que: #큐에 인자가 있을 동안은\n",
    "        j, cnt = que.popleft()\n",
    "        if cnt >= 2:\n",
    "            continue \n",
    "            \n",
    "        for k in range(n):\n",
    "            if not check[k] and matrix[j][k]:\n",
    "                count += 1\n",
    "                check[k] = 1\n",
    "                que.append((k, cnt+1))\n",
    "    return count\n",
    "\n",
    "result = 0\n",
    "for i in range(n): #가장 큰 2-친구수 찾기\n",
    "    result = max(result, bfs(n, i))\n",
    "print(result)\n",
    "\n",
    "    "
   ]
  },
  {
   "cell_type": "code",
   "execution_count": null,
   "metadata": {},
   "outputs": [],
   "source": [
    "### "
   ]
  }
 ],
 "metadata": {
  "kernelspec": {
   "display_name": "Python 3",
   "language": "python",
   "name": "python3"
  },
  "language_info": {
   "codemirror_mode": {
    "name": "ipython",
    "version": 3
   },
   "file_extension": ".py",
   "mimetype": "text/x-python",
   "name": "python",
   "nbconvert_exporter": "python",
   "pygments_lexer": "ipython3",
   "version": "3.7.4"
  }
 },
 "nbformat": 4,
 "nbformat_minor": 2
}
