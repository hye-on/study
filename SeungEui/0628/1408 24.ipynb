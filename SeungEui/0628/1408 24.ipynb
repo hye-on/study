{
 "cells": [
  {
   "cell_type": "markdown",
   "metadata": {},
   "source": [
    "<h6>정확히 임무 시작 후 24시간 째에 임무를 완료하는 도현이</h6>"
   ]
  },
  {
   "cell_type": "markdown",
   "metadata": {},
   "source": [
    "<h6>현재 시간과 임무 시작 시간이 주어지면 임무 종료까지 남은 시간 구하기</h6>"
   ]
  },
  {
   "cell_type": "markdown",
   "metadata": {},
   "source": [
    "<h6>정확히 임무 시작 후 24시간 째에 임무를 완료하는 도현이</h6>\n",
    "<h6>현재 시간과 임무 시작 시간이 주어지면 임무 종료까지 남은 시간 구하기</h6>\n",
    "<h6 style = \"color:blue\">시작한 시간 < 지금 시간</h6>\n",
    "<h6 style = \"color:blue\">남은 시간 = 24시간 - (지금 시간 - 시작한 시간)</h6>\n",
    "<br />\n",
    "<h6 style = \"color:blue\">시작한 시간 > 지금 시간</h6>\n",
    "<h6 style = \"color:blue\">남은 시간 = 시작한 시간 - 지금 시간</h6>"
   ]
  },
  {
   "cell_type": "code",
   "execution_count": 37,
   "metadata": {},
   "outputs": [
    {
     "name": "stdout",
     "output_type": "stream",
     "text": [
      "13:52:30\n",
      "14:00:00\n"
     ]
    }
   ],
   "source": [
    "a = input()\n",
    "b = input()"
   ]
  },
  {
   "cell_type": "code",
   "execution_count": 38,
   "metadata": {},
   "outputs": [],
   "source": [
    "#입력받은 시간을 split하여 초로 바꾸기\n",
    "def toSecond(n):\n",
    "    hour = int(n[0:2])\n",
    "    minute = int(n[3:5])\n",
    "    second = int(n[-2:])\n",
    "    second += minute * 60 + hour * 3600\n",
    "    return second\n",
    "#남은 시간 구하기\n",
    "def leftTime(x, y): #x : 현재 시간, y : 임무 시작 시간\n",
    "    n = 0\n",
    "    if x < y:\n",
    "        n = y - x\n",
    "    else:\n",
    "        n = 24*3600-(x - y)\n",
    "    return n\n",
    "#남은 시간을 시:분:초 형태로 바꾸기 \n",
    "def toHour(n):\n",
    "    hour = int(n / 3600)\n",
    "    minute = int((n % 3600) / 60)\n",
    "    second = n % 60\n",
    "    \n",
    "    time = makeTwo(hour) + ':' + makeTwo(minute) + ':' + makeTwo(second)\n",
    "    return time\n",
    "#시간 자릿수 파악해서 두자리수로 만들기\n",
    "def makeTwo(n):\n",
    "    if n >= 10 :\n",
    "        return str(n) \n",
    "    elif n == 0 :\n",
    "        return '00'\n",
    "    else : \n",
    "        return '0' + str(n)"
   ]
  },
  {
   "cell_type": "code",
   "execution_count": 39,
   "metadata": {},
   "outputs": [
    {
     "name": "stdout",
     "output_type": "stream",
     "text": [
      "00:07:30\n"
     ]
    }
   ],
   "source": [
    "print(toHour(leftTime(toSecond(a), toSecond(b))))"
   ]
  },
  {
   "cell_type": "code",
   "execution_count": null,
   "metadata": {},
   "outputs": [],
   "source": []
  }
 ],
 "metadata": {
  "kernelspec": {
   "display_name": "Python 3",
   "language": "python",
   "name": "python3"
  },
  "language_info": {
   "codemirror_mode": {
    "name": "ipython",
    "version": 3
   },
   "file_extension": ".py",
   "mimetype": "text/x-python",
   "name": "python",
   "nbconvert_exporter": "python",
   "pygments_lexer": "ipython3",
   "version": "3.7.4"
  }
 },
 "nbformat": 4,
 "nbformat_minor": 2
}
