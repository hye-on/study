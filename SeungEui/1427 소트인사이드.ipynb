{
 "cells": [
  {
   "cell_type": "markdown",
   "metadata": {},
   "source": [
    "<h1>내림차순으로 정렬하기<h1>"
   ]
  },
  {
   "cell_type": "code",
   "execution_count": 24,
   "metadata": {},
   "outputs": [
    {
     "name": "stdout",
     "output_type": "stream",
     "text": [
      "1481749124719\n",
      "1111244477899\n"
     ]
    }
   ],
   "source": [
    "a = input()\n",
    "\n",
    "#'int' object is not iterable 오류?\n",
    "#'str' object does not support item assignment? string 타입은 immutable, 즉 변경할 수 없다. 해결책:리스트로 바꾸기\n",
    "#함수 내부에서 list 내용 채워봤자 함수 밖에선 호출 불가\n",
    "\n",
    "def Sort(strN):\n",
    "    temp = ''\n",
    "    listN = list(strN)\n",
    "    for i in range(len(listN)-1): # 0 ~ n-2\n",
    "        for j in range(i, len(listN)): # i ~ n-1\n",
    "            if listN[i] > listN[j]:\n",
    "                temp = listN[j]\n",
    "                listN[j] = listN[i]\n",
    "                listN[i] = temp\n",
    "    return listToStr(listN)\n",
    "\n",
    "def listToStr(listN):\n",
    "    strN = ''\n",
    "    for item in listN:\n",
    "        strN = strN + item\n",
    "    return strN\n",
    "print(Sort(a))"
   ]
  },
  {
   "cell_type": "code",
   "execution_count": null,
   "metadata": {},
   "outputs": [],
   "source": []
  }
 ],
 "metadata": {
  "kernelspec": {
   "display_name": "Python 3",
   "language": "python",
   "name": "python3"
  },
  "language_info": {
   "codemirror_mode": {
    "name": "ipython",
    "version": 3
   },
   "file_extension": ".py",
   "mimetype": "text/x-python",
   "name": "python",
   "nbconvert_exporter": "python",
   "pygments_lexer": "ipython3",
   "version": "3.7.4"
  }
 },
 "nbformat": 4,
 "nbformat_minor": 2
}
