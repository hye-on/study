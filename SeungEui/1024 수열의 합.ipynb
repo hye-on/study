{
 "cells": [
  {
   "cell_type": "code",
   "execution_count": 47,
   "metadata": {},
   "outputs": [
    {
     "name": "stdout",
     "output_type": "stream",
     "text": [
      "18 2\n"
     ]
    },
    {
     "data": {
      "text/plain": [
       "\"\\ndef findSeq(n, length): # 1+a, 2+a, 3+a ... length+a 가 원하는 수열이다.\\n    sum = 0\\n    # 1 ~ length 까지의 합 = sum\\n    for i in range(1, 1+length): \\n        sum = sum + i\\n    #예외처리\\n    if sum > n or length > 100:\\n        print(-1)\\n        return\\n    \\n    left = (n-sum) % length\\n    \\n    #적합한 수열이 아닐 경우 length를 키워주고 sum도 키워준다.\\n    while left != 0:\\n        length = length + 1\\n        sum = sum + length\\n        if sum > n or length > 100:\\n            print(-1)\\n            return\\n        left = (n - sum) % length\\n    \\n    #a 구하기 = n - (1+2+3+...+l) / length\\n    a = int((n - sum) / length)\\n    for i in range(1 + a, length+a+1): # 0 ~ length-1\\n        print(i,end=' ')\\n\\nfindSeq(n, length)\\n\""
      ]
     },
     "execution_count": 47,
     "metadata": {},
     "output_type": "execute_result"
    }
   ],
   "source": [
    "n, length = input().split()\n",
    "n = int(n)\n",
    "length = int(length)\n",
    "\"\"\"\n",
    "18, 2 = 1~2, left = 15, 1~3, left = 12, 통과.\n",
    "18, 4 = 3 4 5 6 , 1 2 3 4 -> 18 - 10 = 8, 8을 4로 나눠서 2씩 더해준다.\n",
    "18, 6 = 존재하지 않는다. 1~6: 21 -> 1~l까지의 합이 n보다 크면 그런 수열은 존재하지 않는 거\n",
    "\"\"\"\n",
    "\"\"\"\n",
    "def findSeq(n, length): # 1+a, 2+a, 3+a ... length+a 가 원하는 수열이다.\n",
    "    sum = 0\n",
    "    # 1 ~ length 까지의 합 = sum\n",
    "    for i in range(1, 1+length): \n",
    "        sum = sum + i\n",
    "    #예외처리\n",
    "    if sum > n or length > 100:\n",
    "        print(-1)\n",
    "        return\n",
    "    \n",
    "    left = (n-sum) % length\n",
    "    \n",
    "    #적합한 수열이 아닐 경우 length를 키워주고 sum도 키워준다.\n",
    "    while left != 0:\n",
    "        length = length + 1\n",
    "        sum = sum + length\n",
    "        if sum > n or length > 100:\n",
    "            print(-1)\n",
    "            return\n",
    "        left = (n - sum) % length\n",
    "    \n",
    "    #a 구하기 = n - (1+2+3+...+l) / length\n",
    "    a = int((n - sum) / length)\n",
    "    for i in range(1 + a, length+a+1): # 0 ~ length-1\n",
    "        print(i,end=' ')\n",
    "\n",
    "findSeq(n, length)\n",
    "\"\"\""
   ]
  },
  {
   "cell_type": "code",
   "execution_count": 66,
   "metadata": {},
   "outputs": [
    {
     "name": "stdout",
     "output_type": "stream",
     "text": [
      "18 99\n",
      "-1\n"
     ]
    }
   ],
   "source": [
    "n, l = input().split()\n",
    "n = int(n)\n",
    "l = int(l)\n",
    "if l > 100:\n",
    "    print(-1)\n",
    "#n = (1+2+...+length) + a*length = length * (length+1)/2 + a*length\n",
    "for length in range(l, 101):\n",
    "    al = n - int((length * (length+1) / 2)) #n에서 1~length까지의 합을 빼면 a*length만 남는다.\n",
    "  \n",
    "    if (al%length == 0): #al이 length로 나누어 떨어지면\n",
    "        a = int(al/length)\n",
    "        if (1+length) >= 0: #수열의 첫 항이 0 이상일 때만 \n",
    "            for j in range(1+a, a+length+1): #1+a ... length+a\n",
    "                print(j,end=' ')\n",
    "            break\n",
    "#length는 100 이하였는데 하다보니 100 초과해버린 경우 - break에 안 걸리고 끝까지 간 경우\n",
    "else:\n",
    "    print(-1)"
   ]
  },
  {
   "cell_type": "code",
   "execution_count": null,
   "metadata": {},
   "outputs": [],
   "source": []
  }
 ],
 "metadata": {
  "kernelspec": {
   "display_name": "Python 3",
   "language": "python",
   "name": "python3"
  },
  "language_info": {
   "codemirror_mode": {
    "name": "ipython",
    "version": 3
   },
   "file_extension": ".py",
   "mimetype": "text/x-python",
   "name": "python",
   "nbconvert_exporter": "python",
   "pygments_lexer": "ipython3",
   "version": "3.7.4"
  }
 },
 "nbformat": 4,
 "nbformat_minor": 2
}
